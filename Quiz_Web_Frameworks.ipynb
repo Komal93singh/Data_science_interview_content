{
  "cells": [
    {
      "cell_type": "markdown",
      "metadata": {
        "id": "view-in-github",
        "colab_type": "text"
      },
      "source": [
        "<a href=\"https://colab.research.google.com/github/Komal93singh/Data_science_interview_content/blob/main/Quiz_Web_Frameworks.ipynb\" target=\"_parent\"><img src=\"https://colab.research.google.com/assets/colab-badge.svg\" alt=\"Open In Colab\"/></a>"
      ]
    },
    {
      "cell_type": "code",
      "source": [],
      "metadata": {
        "id": "w8ouwnxTEPaq"
      },
      "execution_count": null,
      "outputs": []
    },
    {
      "cell_type": "markdown",
      "source": [
        "#QUIZ : WEB FRAMEWORKS\n",
        "---"
      ],
      "metadata": {
        "id": "35Yw-o3n9yZ9"
      }
    },
    {
      "cell_type": "code",
      "source": [],
      "metadata": {
        "id": "s4h1ZYSZ9yAs"
      },
      "execution_count": null,
      "outputs": []
    },
    {
      "cell_type": "markdown",
      "source": [
        "##Q1. Which of the following is a full-stack Python web framework?\n",
        "1. Flask\n",
        "2. Streamlit\n",
        "3. Django\n",
        "4. FastAPI"
      ],
      "metadata": {
        "id": "Yy3_cxPN96y4"
      }
    },
    {
      "cell_type": "markdown",
      "source": [
        "The correct answer is: **3. Django**\n",
        "\n",
        "### Explanation:\n",
        "\n",
        "* **Django** is a **full-stack Python web framework**, meaning it includes everything needed to build a complete web application — from the database layer (ORM) to the templating engine, URL routing, form handling, authentication, and more.\n",
        "\n",
        "### Comparison with others:\n",
        "\n",
        "* **Flask**: A **microframework** — lightweight and minimal, but not full-stack. You have to add extensions for things like ORM or authentication.\n",
        "* **Streamlit**: Designed for **data apps**, especially for data scientists. It’s not a traditional web framework.\n",
        "* **FastAPI**: A **modern microframework** for building APIs, especially suited for asynchronous web services, but not full-stack.\n",
        "\n",
        "So, **Django** is the only **full-stack framework** among the options provided. ✅\n"
      ],
      "metadata": {
        "id": "v5JpaEqb-Flm"
      }
    },
    {
      "cell_type": "code",
      "source": [],
      "metadata": {
        "id": "GEv4-zp59564"
      },
      "execution_count": null,
      "outputs": []
    },
    {
      "cell_type": "markdown",
      "source": [
        "##Q2. In Django, which method would you use to create a new database record?\n",
        "1. add_record()\n",
        "2. create()\n",
        "3. insert()\n",
        "4. save()"
      ],
      "metadata": {
        "id": "QGyFHzQ3-JcJ"
      }
    },
    {
      "cell_type": "markdown",
      "source": [
        "The correct answer is: **2. create()**\n",
        "\n",
        "### Explanation:\n",
        "\n",
        "In Django, there are **two main ways** to create a new database record using the ORM:\n",
        "\n",
        "---\n",
        "\n",
        "#### ✅ **Option 2: `create()`**\n",
        "\n",
        "* Used to create and save a new record in **one step**.\n",
        "\n",
        "```python\n",
        "MyModel.objects.create(field1='value1', field2='value2')\n",
        "```\n",
        "\n",
        "---\n",
        "\n",
        "#### ✅ **Option 4: `save()`**\n",
        "\n",
        "* Used **after instantiating** an object to save it to the database.\n",
        "\n",
        "```python\n",
        "obj = MyModel(field1='value1', field2='value2')\n",
        "obj.save()\n",
        "```\n",
        "\n",
        "---\n",
        "\n",
        "### So which one is correct?\n",
        "\n",
        "* Since the question asks *\"which method would you use to create a new database record?\"*, and `create()` does both instantiation **and** saving in **one step**, it is the best direct answer.\n",
        "\n",
        "---\n",
        "\n",
        "### Summary:\n",
        "\n",
        "* ✅ **Correct:** `create()`\n",
        "* ❌ `add_record()`, `insert()` – Not Django ORM methods\n",
        "* ❓ `save()` – Also valid, but not as direct as `create()` for this question\n",
        "\n",
        "**Final Answer: 2. create()** ✅\n"
      ],
      "metadata": {
        "id": "SLotVU2i-Qfa"
      }
    },
    {
      "cell_type": "code",
      "source": [],
      "metadata": {
        "id": "0k6KSara-T9T"
      },
      "execution_count": null,
      "outputs": []
    },
    {
      "cell_type": "markdown",
      "source": [
        "##Q3. Django's settings are typically stored in :\n",
        "1. settings.py\n",
        "2. config.py\n",
        "3. app.py\n",
        "4. main.py"
      ],
      "metadata": {
        "id": "byngqrZ7-UZA"
      }
    },
    {
      "cell_type": "markdown",
      "source": [
        "**Django's settings are typically stored in:**\n",
        "\n",
        "### ✅ `settings.py`\n",
        "\n",
        "---\n",
        "\n",
        "### Explanation:\n",
        "\n",
        "When you create a new Django project using:\n",
        "\n",
        "```bash\n",
        "django-admin startproject myproject\n",
        "```\n",
        "\n",
        "It generates a directory structure like:\n",
        "\n",
        "```\n",
        "myproject/\n",
        "├── manage.py\n",
        "└── myproject/\n",
        "    ├── __init__.py\n",
        "    ├── settings.py    ← ✅ Settings stored here\n",
        "    ├── urls.py\n",
        "    └── wsgi.py\n",
        "```\n",
        "\n",
        "---\n",
        "\n",
        "### `settings.py` contains:\n",
        "\n",
        "* Database configurations\n",
        "* Installed apps\n",
        "* Middleware\n",
        "* Templates settings\n",
        "* Static and media files settings\n",
        "* Security options (like `SECRET_KEY`, `ALLOWED_HOSTS`, etc.)\n",
        "\n",
        "---\n",
        "\n",
        "### Summary:\n",
        "\n",
        "Django’s project-level configuration is typically stored in the **`settings.py`** file. ✅\n"
      ],
      "metadata": {
        "id": "9_CeWcEN-t7Y"
      }
    },
    {
      "cell_type": "code",
      "source": [],
      "metadata": {
        "id": "_gL_etm7-yLu"
      },
      "execution_count": null,
      "outputs": []
    },
    {
      "cell_type": "markdown",
      "source": [
        "##Q4. Which of the following best describes Dajango's ORM?\n",
        "1. It allows direct SQL queries to be written in views.\n",
        "2. It automatically handles session management.\n",
        "3. It provides a Pythonic way to interact with the database.\n",
        "4. It is an external package that needs to be installed separately."
      ],
      "metadata": {
        "id": "81oFEn-t-yoV"
      }
    },
    {
      "cell_type": "markdown",
      "source": [
        "The correct answer is: **3. It provides a Pythonic way to interact with the database.**\n",
        "\n",
        "---\n",
        "\n",
        "### Explanation:\n",
        "\n",
        "#### ✅ **Option 3: \"It provides a Pythonic way to interact with the database.\"**\n",
        "\n",
        "* This **accurately describes Django’s ORM** (Object-Relational Mapper).\n",
        "* You define your database models using Python classes, and Django translates those into database tables.\n",
        "* You can perform queries like:\n",
        "\n",
        "  ```python\n",
        "  MyModel.objects.filter(name=\"Alice\")\n",
        "  ```\n",
        "\n",
        "---\n",
        "\n",
        "#### ❌ **Option 1: \"It allows direct SQL queries to be written in views.\"**\n",
        "\n",
        "* Django **discourages** writing raw SQL in views.\n",
        "* While you *can* write raw SQL using methods like `.raw()` or `connection.cursor()`, this is **not** what the ORM is about.\n",
        "\n",
        "---\n",
        "\n",
        "#### ❌ **Option 2: \"It automatically handles session management.\"**\n",
        "\n",
        "* Session management is handled by **Django's middleware**, not the ORM.\n",
        "\n",
        "---\n",
        "\n",
        "#### ❌ **Option 4: \"It is an external package that needs to be installed separately.\"**\n",
        "\n",
        "* Django’s ORM is **built-in** — you do **not** need to install it separately.\n",
        "\n",
        "---\n",
        "\n",
        "### ✅ Final Answer: **3. It provides a Pythonic way to interact with the database.**\n"
      ],
      "metadata": {
        "id": "MyBe1GQA-7Nt"
      }
    },
    {
      "cell_type": "code",
      "source": [],
      "metadata": {
        "id": "afBTLmkt-969"
      },
      "execution_count": null,
      "outputs": []
    },
    {
      "cell_type": "markdown",
      "source": [
        "##Q5. Which Django component is responsible for URL mapping?\n",
        "1. Views\n",
        "2. Models\n",
        "3. Templates\n",
        "4. URLs(urlconf)"
      ],
      "metadata": {
        "id": "jPId_NSL--X-"
      }
    },
    {
      "cell_type": "markdown",
      "source": [
        "The correct answer is: **4. URLs (urlconf)**\n",
        "\n",
        "---\n",
        "\n",
        "### Explanation:\n",
        "\n",
        "#### ✅ **Option 4: URLs (urlconf)**\n",
        "\n",
        "* Django uses a **URL configuration (URLconf)** to map URLs to views.\n",
        "* This is typically done in a file called `urls.py`.\n",
        "* Example:\n",
        "\n",
        "  ```python\n",
        "  from django.urls import path\n",
        "  from . import views\n",
        "\n",
        "  urlpatterns = [\n",
        "      path('home/', views.home_view, name='home'),\n",
        "  ]\n",
        "  ```\n",
        "\n",
        "---\n",
        "\n",
        "### Why the others are incorrect:\n",
        "\n",
        "* ❌ **Views**: Handle the logic once the URL is matched, but **don’t do the mapping** themselves.\n",
        "* ❌ **Models**: Represent database schema, unrelated to URL routing.\n",
        "* ❌ **Templates**: Handle presentation (HTML), not URL mapping.\n",
        "\n",
        "---\n",
        "\n",
        "### ✅ Final Answer: **4. URLs (urlconf)**\n"
      ],
      "metadata": {
        "id": "WMI_rHVf_Fb3"
      }
    },
    {
      "cell_type": "code",
      "source": [],
      "metadata": {
        "id": "XzM_APdT_IjY"
      },
      "execution_count": null,
      "outputs": []
    },
    {
      "cell_type": "markdown",
      "source": [
        "##Q6. What is the primary purpose of Flask Blueprints?\n",
        "1. To handle database connections\n",
        "2. To manage application configurations\n",
        "3. To organize and modularize the application\n",
        "4. To implement middleware"
      ],
      "metadata": {
        "id": "QRLlN7O2_H-G"
      }
    },
    {
      "cell_type": "markdown",
      "source": [
        "The correct answer is: **3. To organize and modularize the application**\n",
        "\n",
        "---\n",
        "\n",
        "### ✅ Explanation:\n",
        "\n",
        "#### **Flask Blueprints** are used to:\n",
        "\n",
        "* **Modularize** large applications into reusable components (like user auth, blog, admin, etc.)\n",
        "* Group **routes**, **templates**, and **static files** for a specific part of your app\n",
        "* Help keep your codebase **clean, scalable**, and **organized**\n",
        "\n",
        "---\n",
        "\n",
        "### Example:\n",
        "\n",
        "```python\n",
        "# In user/routes.py\n",
        "from flask import Blueprint\n",
        "\n",
        "user_bp = Blueprint('user', __name__)\n",
        "\n",
        "@user_bp.route('/profile')\n",
        "def profile():\n",
        "    return \"User Profile\"\n",
        "```\n",
        "\n",
        "Then register it in your main app:\n",
        "\n",
        "```python\n",
        "from user.routes import user_bp\n",
        "app.register_blueprint(user_bp)\n",
        "```\n",
        "\n",
        "---\n",
        "\n",
        "### ❌ Why the other options are incorrect:\n",
        "\n",
        "* **1. Database connections** – Handled by extensions like SQLAlchemy, not Blueprints.\n",
        "* **2. Application configurations** – Done via `app.config`, not Blueprints.\n",
        "* **4. Middleware** – Flask has `before_request`, `after_request`, and WSGI middleware, but Blueprints are not for this.\n",
        "\n",
        "---\n",
        "\n",
        "### ✅ Final Answer: **3. To organize and modularize the application**\n"
      ],
      "metadata": {
        "id": "cLt_Ba6r_RTl"
      }
    },
    {
      "cell_type": "code",
      "source": [],
      "metadata": {
        "id": "7Izr09--_Vhh"
      },
      "execution_count": null,
      "outputs": []
    },
    {
      "cell_type": "markdown",
      "source": [
        "##Q7. Which of the following is a Streamlit component?\n",
        "1. st.write()\n",
        "2. st.show()\n",
        "3. st.display()\n",
        "4. st.render()"
      ],
      "metadata": {
        "id": "XTVF4O-Y_V_i"
      }
    },
    {
      "cell_type": "markdown",
      "source": [
        "The correct answer is: **1. `st.write()`**\n",
        "\n",
        "---\n",
        "\n",
        "### ✅ Explanation:\n",
        "\n",
        "#### **`st.write()`** is a core component in **Streamlit** used to display:\n",
        "\n",
        "* Text\n",
        "* Numbers\n",
        "* DataFrames\n",
        "* Matplotlib/Plotly charts\n",
        "* Any Python object\n",
        "\n",
        "Example:\n",
        "\n",
        "```python\n",
        "import streamlit as st\n",
        "\n",
        "st.write(\"Hello, Streamlit!\")\n",
        "st.write({\"name\": \"Alice\", \"age\": 30})\n",
        "```\n",
        "\n",
        "It’s very flexible and acts like a smart print function for web apps.\n",
        "\n",
        "---\n",
        "\n",
        "### ❌ Why the others are incorrect:\n",
        "\n",
        "* **`st.show()`**, **`st.display()`**, and **`st.render()`** are **not valid Streamlit functions**.\n",
        "\n",
        "---\n",
        "\n",
        "### ✅ Final Answer: **1. `st.write()`**\n"
      ],
      "metadata": {
        "id": "_GB8IB8n_c8m"
      }
    },
    {
      "cell_type": "code",
      "source": [],
      "metadata": {
        "id": "Oizrvaag_fXm"
      },
      "execution_count": null,
      "outputs": []
    },
    {
      "cell_type": "markdown",
      "source": [
        "##Q8. Which command in Django is used to apply database migrations?\n",
        "1. django-admin migrate\n",
        "2. django-admin makemigrations\n",
        "3. django-admin apply\n",
        "4. django-admin update"
      ],
      "metadata": {
        "id": "0lEhJBZp_fp7"
      }
    },
    {
      "cell_type": "markdown",
      "source": [
        "The correct answer is: **1. `django-admin migrate`**\n",
        "\n",
        "---\n",
        "\n",
        "### ✅ Explanation:\n",
        "\n",
        "In Django, **migrations** are used to apply changes to your database schema (like creating or altering tables) based on your models.\n",
        "\n",
        "#### 🔹 **`migrate`**:\n",
        "\n",
        "* Applies migrations to the database.\n",
        "\n",
        "```bash\n",
        "python manage.py migrate\n",
        "```\n",
        "\n",
        "#### 🔹 **`makemigrations`**:\n",
        "\n",
        "* Creates new migration files based on model changes.\n",
        "\n",
        "```bash\n",
        "python manage.py makemigrations\n",
        "```\n",
        "\n",
        "So the typical workflow is:\n",
        "\n",
        "1. `makemigrations` → create migration files\n",
        "2. `migrate` → apply them to the database\n",
        "\n",
        "---\n",
        "\n",
        "### ❌ Why the others are incorrect:\n",
        "\n",
        "* **`apply`** – ❌ Not a Django command\n",
        "* **`update`** – ❌ Not used for migrations\n",
        "\n",
        "---\n",
        "\n",
        "### ✅ Final Answer: **1. `django-admin migrate`**\n"
      ],
      "metadata": {
        "id": "4dumdZcg_phC"
      }
    },
    {
      "cell_type": "code",
      "source": [],
      "metadata": {
        "id": "CAGPMQMk_s1L"
      },
      "execution_count": null,
      "outputs": []
    },
    {
      "cell_type": "markdown",
      "source": [
        "##Q9. In Flask, which method is used to define a route for a specific URL?\n",
        "1. route()\n",
        "2. path()\n",
        "3. url()\n",
        "4. endpoint()"
      ],
      "metadata": {
        "id": "AkWH02jZ_tNX"
      }
    },
    {
      "cell_type": "markdown",
      "source": [
        "The correct answer is: **1. `route()`**\n",
        "\n",
        "---\n",
        "\n",
        "### ✅ Explanation:\n",
        "\n",
        "In **Flask**, the `@app.route()` decorator is used to define a **route** for a specific URL.\n",
        "\n",
        "#### Example:\n",
        "\n",
        "```python\n",
        "from flask import Flask\n",
        "\n",
        "app = Flask(__name__)\n",
        "\n",
        "@app.route('/hello')\n",
        "def hello():\n",
        "    return \"Hello, Flask!\"\n",
        "```\n",
        "\n",
        "* This maps the URL `/hello` to the `hello()` function.\n",
        "* When a user visits `/hello`, Flask calls that function and returns the result.\n",
        "\n",
        "---\n",
        "\n",
        "### ❌ Why the others are incorrect:\n",
        "\n",
        "* **`path()`** – Used in **Django**, not Flask.\n",
        "* **`url()`** – Not used for routing; Flask has `url_for()` to build URLs.\n",
        "* **`endpoint()`** – Refers to the **name** of a route internally, but is **not** used to define the route.\n",
        "\n",
        "---\n",
        "\n",
        "### ✅ Final Answer: **1. `route()`**\n"
      ],
      "metadata": {
        "id": "rG6MO9P0_z72"
      }
    },
    {
      "cell_type": "code",
      "source": [],
      "metadata": {
        "id": "13rzMMOl_2vQ"
      },
      "execution_count": null,
      "outputs": []
    },
    {
      "cell_type": "markdown",
      "source": [
        "##Q10. What is Streamlit primarily used for?\n",
        "1. Building full-stack web applications\n",
        "2. Developing desktop applications\n",
        "3. Creating data science and machine learning dashboards\n",
        "4. API development"
      ],
      "metadata": {
        "id": "9R7nTunw_3Fb"
      }
    },
    {
      "cell_type": "markdown",
      "source": [
        "The correct answer is: **3. Creating data science and machine learning dashboards**\n",
        "\n",
        "---\n",
        "\n",
        "### ✅ Explanation:\n",
        "\n",
        "**Streamlit** is a Python framework **designed specifically for data scientists and machine learning engineers** to quickly build and share **interactive web apps** for:\n",
        "\n",
        "* **Data visualization**\n",
        "* **Exploratory data analysis**\n",
        "* **ML model demos**\n",
        "* **Dashboarding**\n",
        "\n",
        "Example:\n",
        "\n",
        "```python\n",
        "import streamlit as st\n",
        "import pandas as pd\n",
        "\n",
        "st.title(\"Simple Data Dashboard\")\n",
        "df = pd.read_csv(\"data.csv\")\n",
        "st.write(df.head())\n",
        "```\n",
        "\n",
        "---\n",
        "\n",
        "### ❌ Why the other options are incorrect:\n",
        "\n",
        "* **1. Building full-stack web applications** – That's more suitable for **Django** or **Flask**, not Streamlit.\n",
        "* **2. Developing desktop applications** – Streamlit creates **web apps**, not desktop apps.\n",
        "* **4. API development** – Tools like **FastAPI** or **Flask** are better for building APIs.\n",
        "\n",
        "---\n",
        "\n",
        "### ✅ Final Answer: **3. Creating data science and machine learning dashboards**\n"
      ],
      "metadata": {
        "id": "o9_rGIlm_-zV"
      }
    },
    {
      "cell_type": "code",
      "source": [],
      "metadata": {
        "id": "tjX-tEMDADC7"
      },
      "execution_count": null,
      "outputs": []
    },
    {
      "cell_type": "markdown",
      "source": [
        "##Q11. Which of the following is a feature of Django?\n",
        "1. Built-in ORM\n",
        "2. Real-time data visualization\n",
        "3. Jinja2 template engine\n",
        "4. Automatic database migrations"
      ],
      "metadata": {
        "id": "BOhq03W3ADYe"
      }
    },
    {
      "cell_type": "markdown",
      "source": [
        "The correct answer is: **1. Built-in ORM**\n",
        "\n",
        "---\n",
        "\n",
        "### Explanation:\n",
        "\n",
        "* **Built-in ORM**: Django comes with its own powerful Object-Relational Mapper (ORM) to interact with databases using Python code instead of raw SQL.\n",
        "\n",
        "---\n",
        "\n",
        "### Why others are incorrect:\n",
        "\n",
        "* **Real-time data visualization**: Not a core feature of Django; usually done with front-end libraries or other tools.\n",
        "* **Jinja2 template engine**: Django uses its own **Django template engine**, not Jinja2 (although Jinja2 can be integrated separately).\n",
        "* **Automatic database migrations**: Django requires you to run migration commands manually (`makemigrations` and `migrate`), so it’s not fully automatic.\n",
        "\n",
        "---\n",
        "\n",
        "### Final answer: **1. Built-in ORM**\n"
      ],
      "metadata": {
        "id": "QAQp1AEzALF4"
      }
    },
    {
      "cell_type": "code",
      "source": [],
      "metadata": {
        "id": "wrfzXSTSAODS"
      },
      "execution_count": null,
      "outputs": []
    },
    {
      "cell_type": "markdown",
      "source": [
        "##Q12. In Streamlit, which command is used to run a Streamlit app?\n",
        "1. streamlit start\n",
        "2. streamlit run\n",
        "3. python -m streamlit\n",
        "4. streamlit serve"
      ],
      "metadata": {
        "id": "JZYPZygZAOT7"
      }
    },
    {
      "cell_type": "markdown",
      "source": [
        "The correct answer is: **2. streamlit run**\n",
        "\n",
        "---\n",
        "\n",
        "### Explanation:\n",
        "\n",
        "To launch a Streamlit app, you use the command:\n",
        "\n",
        "```bash\n",
        "streamlit run your_app.py\n",
        "```\n",
        "\n",
        "This starts a local web server and opens the app in your browser.\n",
        "\n",
        "---\n",
        "\n",
        "### Why others are incorrect:\n",
        "\n",
        "* **streamlit start** — Not a valid command.\n",
        "* **python -m streamlit** — This runs the Streamlit module but without `run` it won’t start an app.\n",
        "* **streamlit serve** — Not a valid command.\n",
        "\n",
        "---\n",
        "\n",
        "### Final answer: **2. streamlit run**\n"
      ],
      "metadata": {
        "id": "sNRjZpzRAVl4"
      }
    },
    {
      "cell_type": "code",
      "source": [],
      "metadata": {
        "id": "sVMBeZBcAYjE"
      },
      "execution_count": null,
      "outputs": []
    },
    {
      "cell_type": "markdown",
      "source": [
        "##Q13. Which architecture pattern does Django follow?\n",
        "1. MVC (Model-View_Controller)\n",
        "2. MTV (Model-Template-View)\n",
        "3. MVT (Model-View-Template)\n",
        "4. MVP (Model-View-Presenter)"
      ],
      "metadata": {
        "id": "Qoxc7Qt9AZBD"
      }
    },
    {
      "cell_type": "markdown",
      "source": [
        "The correct answer is: **3. MVT (Model-View-Template)**\n",
        "\n",
        "---\n",
        "\n",
        "### Explanation:\n",
        "\n",
        "* Django follows the **MVT architecture pattern**, which is very similar to MVC but with slightly different terminology:\n",
        "\n",
        "| Component  | Django Term | Role                                         |\n",
        "| ---------- | ----------- | -------------------------------------------- |\n",
        "| Model      | Model       | Manages data and database                    |\n",
        "| View       | Template    | Handles presentation (HTML output)           |\n",
        "| Controller | View        | Contains business logic and handles requests |\n",
        "\n",
        "---\n",
        "\n",
        "### Summary:\n",
        "\n",
        "* **Model**: Data layer (database models)\n",
        "* **View**: The logic that processes requests and returns responses (called **View** in Django)\n",
        "* **Template**: The presentation layer (HTML files)\n",
        "\n",
        "---\n",
        "\n",
        "### Final answer: **3. MVT (Model-View-Template)**\n"
      ],
      "metadata": {
        "id": "aUVEnKVCAiQm"
      }
    },
    {
      "cell_type": "code",
      "source": [],
      "metadata": {
        "id": "qrpZBDtWAkO-"
      },
      "execution_count": null,
      "outputs": []
    },
    {
      "cell_type": "markdown",
      "source": [
        "##Q14. Which Flask extension is used for handling database operations?\n",
        "1. Flask-WTF\n",
        "2. Flask-SQLAlchemy\n",
        "3. Flask-Bcrypt\n",
        "4. Flask-Login"
      ],
      "metadata": {
        "id": "wTtyKb4tAkvf"
      }
    },
    {
      "cell_type": "markdown",
      "source": [
        "The Flask extension commonly used for handling database operations is **2. Flask-SQLAlchemy**.\n",
        "\n",
        "---\n",
        "\n",
        "### Explanation:\n",
        "\n",
        "* **Flask-SQLAlchemy** is an extension that integrates the SQLAlchemy ORM with Flask, making it easy to work with relational databases in a Flask app.\n",
        "* It allows you to define your database models as Python classes and interact with the database using Python code.\n",
        "\n",
        "---\n",
        "\n",
        "### Example:\n",
        "\n",
        "```python\n",
        "from flask import Flask\n",
        "from flask_sqlalchemy import SQLAlchemy\n",
        "\n",
        "app = Flask(__name__)\n",
        "app.config['SQLALCHEMY_DATABASE_URI'] = 'sqlite:///test.db'\n",
        "db = SQLAlchemy(app)\n",
        "\n",
        "class User(db.Model):\n",
        "    id = db.Column(db.Integer, primary_key=True)\n",
        "    username = db.Column(db.String(80), unique=True, nullable=False)\n",
        "\n",
        "# Create tables\n",
        "with app.app_context():\n",
        "    db.create_all()\n",
        "```\n",
        "\n",
        "---\n",
        "\n",
        "**Summary:**\n",
        "**2. Flask-SQLAlchemy** is the go-to Flask extension for database operations.\n"
      ],
      "metadata": {
        "id": "U38YvWw0BITm"
      }
    },
    {
      "cell_type": "code",
      "source": [],
      "metadata": {
        "id": "vamP_GXABQo2"
      },
      "execution_count": null,
      "outputs": []
    },
    {
      "cell_type": "markdown",
      "source": [
        "##Q15. In Django, which command is used to create a new project?\n",
        "1. django-admin newproject\n",
        "2. django-admin startproject\n",
        "3. django-admin createproject\n",
        "4. django-admin initproject"
      ],
      "metadata": {
        "id": "PObC9iOyBRDF"
      }
    },
    {
      "cell_type": "markdown",
      "source": [
        "The correct answer is: **2. django-admin startproject**\n",
        "\n",
        "---\n",
        "\n",
        "### Explanation:\n",
        "\n",
        "To create a new Django project, you use the command:\n",
        "\n",
        "```bash\n",
        "django-admin startproject projectname\n",
        "```\n",
        "\n",
        "This command generates the basic project directory structure with necessary files like `settings.py`, `urls.py`, and `manage.py`.\n",
        "\n",
        "---\n",
        "\n",
        "### Why others are incorrect:\n",
        "\n",
        "* **django-admin newproject** — Not a valid command.\n",
        "* **django-admin createproject** — Not a valid command.\n",
        "* **django-admin initproject** — Not a valid command.\n",
        "\n",
        "---\n",
        "\n",
        "### Final answer: **2. django-admin startproject**\n"
      ],
      "metadata": {
        "id": "WqakEFWfBX4Z"
      }
    },
    {
      "cell_type": "code",
      "source": [],
      "metadata": {
        "id": "nxC3J4MlBa_8"
      },
      "execution_count": null,
      "outputs": []
    },
    {
      "cell_type": "markdown",
      "source": [
        "##Q16. Streanlit applications are written using which programming language?\n",
        "1. Javascript\n",
        "2. Python\n",
        "3. Ruby\n",
        "4. C++"
      ],
      "metadata": {
        "id": "YPJCBZDLBagR"
      }
    },
    {
      "cell_type": "markdown",
      "source": [
        "The correct answer is: **2. Python**\n",
        "\n",
        "---\n",
        "\n",
        "### Explanation:\n",
        "\n",
        "Streamlit apps are written entirely in **Python**, making it very popular among data scientists and machine learning engineers who use Python for data analysis and modeling.\n",
        "\n",
        "---\n",
        "\n",
        "### Final answer: **2. Python**\n"
      ],
      "metadata": {
        "id": "-FJ9zcN0BirZ"
      }
    },
    {
      "cell_type": "code",
      "source": [],
      "metadata": {
        "id": "M0PzejdCBlQ5"
      },
      "execution_count": null,
      "outputs": []
    },
    {
      "cell_type": "markdown",
      "source": [
        "##Q17. Which of the following is not a key feature of Flask?\n",
        "1. Built-in admin interface\n",
        "2. Minimalistic core\n",
        "3. Extensible with plugins\n",
        "4. Jinja2 templating"
      ],
      "metadata": {
        "id": "t6CGRjrNBlnp"
      }
    },
    {
      "cell_type": "markdown",
      "source": [
        "The correct answer is: **1. Built-in admin interface**\n",
        "\n",
        "---\n",
        "\n",
        "### Explanation:\n",
        "\n",
        "* Flask **does not** come with a built-in admin interface by default.\n",
        "* It has a **minimalistic core** (option 2), allowing you to add features as needed.\n",
        "* It’s **extensible with plugins** (option 3) like Flask-Admin for admin interfaces.\n",
        "* Flask uses **Jinja2 templating** (option 4) for rendering HTML.\n",
        "\n",
        "---\n",
        "\n",
        "### Final answer: **1. Built-in admin interface**\n"
      ],
      "metadata": {
        "id": "bkeFZqvPBssQ"
      }
    },
    {
      "cell_type": "code",
      "source": [],
      "metadata": {
        "id": "-F7FlAxQBv8D"
      },
      "execution_count": null,
      "outputs": []
    },
    {
      "cell_type": "markdown",
      "source": [
        "##Q18. In Django, what does the ORM stand for?\n",
        "1. Object Relational Model\n",
        "2. Object Resource Mapping\n",
        "3. Object Realtional Mapping\n",
        "4. Object Response Model"
      ],
      "metadata": {
        "id": "HVq0tP9UBwaV"
      }
    },
    {
      "cell_type": "markdown",
      "source": [
        "The correct answer is: **3. Object Relational Mapping**\n",
        "\n",
        "---\n",
        "\n",
        "### Explanation:\n",
        "\n",
        "* **ORM** stands for **Object Relational Mapping**.\n",
        "* It’s a technique that allows you to interact with a relational database using **object-oriented programming languages** like Python.\n",
        "* Django’s ORM lets you work with database tables as Python classes and rows as instances of those classes.\n",
        "\n",
        "---\n",
        "\n",
        "### Final answer: **3. Object Relational Mapping**\n"
      ],
      "metadata": {
        "id": "ZUJt_JehB37R"
      }
    },
    {
      "cell_type": "code",
      "source": [],
      "metadata": {
        "id": "btnFGBB4B6eO"
      },
      "execution_count": null,
      "outputs": []
    },
    {
      "cell_type": "markdown",
      "source": [
        "##Q19. Which of the followinh can be used to define routes in Flask?\n",
        "1. @route(\"/home\")\n",
        "2. @app.route(\"/home\")\n",
        "3. @app.route()\n",
        "4. @route()"
      ],
      "metadata": {
        "id": "6q0iSgH2B68o"
      }
    },
    {
      "cell_type": "markdown",
      "source": [
        "The correct answer is: **2. `@app.route(\"/home\")`**\n",
        "\n",
        "---\n",
        "\n",
        "### Explanation:\n",
        "\n",
        "* In Flask, routes are defined using the **`route` decorator on the Flask app instance**, like this:\n",
        "\n",
        "```python\n",
        "@app.route(\"/home\")\n",
        "def home():\n",
        "    return \"Hello, Home!\"\n",
        "```\n",
        "\n",
        "* **`@route(\"/home\")`** without specifying `app` is invalid because Flask needs to know which app the route belongs to.\n",
        "* `@app.route()` without an argument is incomplete.\n",
        "* `@route()` without `app` is invalid.\n",
        "\n",
        "---\n",
        "\n",
        "### Final answer: **2. `@app.route(\"/home\")`**\n"
      ],
      "metadata": {
        "id": "LVq2hvpTCCOm"
      }
    },
    {
      "cell_type": "code",
      "source": [],
      "metadata": {
        "id": "JYXjm4FiCEqE"
      },
      "execution_count": null,
      "outputs": []
    },
    {
      "cell_type": "markdown",
      "source": [
        "##Q20. Which template engine does Django use by default?\n",
        "1. Jinja2\n",
        "2. Mako\n",
        "3. Tornado\n",
        "4. Django Template Language (DTL)"
      ],
      "metadata": {
        "id": "H0PbRB_kCFED"
      }
    },
    {
      "cell_type": "markdown",
      "source": [
        "The correct answer is: **4. Django Template Language (DTL)**\n",
        "\n",
        "---\n",
        "\n",
        "### Explanation:\n",
        "\n",
        "* Django uses its own built-in template engine called **Django Template Language (DTL)** by default.\n",
        "* It’s designed specifically for Django and supports template inheritance, filters, tags, and more.\n",
        "\n",
        "---\n",
        "\n",
        "### Why others are incorrect:\n",
        "\n",
        "* **Jinja2**: Popular in Flask, but not Django’s default.\n",
        "* **Mako** and **Tornado**: Other template engines, not used by default in Django.\n",
        "\n",
        "---\n",
        "\n",
        "### Final answer: **4. Django Template Language (DTL)**\n"
      ],
      "metadata": {
        "id": "LMMcVLJGCLqZ"
      }
    },
    {
      "cell_type": "code",
      "source": [],
      "metadata": {
        "id": "Zx7iSsdfCNxe"
      },
      "execution_count": null,
      "outputs": []
    },
    {
      "cell_type": "markdown",
      "source": [
        "##Q21. Streamlit uses which of the following to create user interfaces?\n",
        "1. HTML and CSS\n",
        "2. Python functions\n",
        "3. JavaScript\n",
        "4. Flask templates"
      ],
      "metadata": {
        "id": "cKTS2y35COKb"
      }
    },
    {
      "cell_type": "markdown",
      "source": [
        "The correct answer is: **2. Python functions**\n",
        "\n",
        "---\n",
        "\n",
        "### Explanation:\n",
        "\n",
        "* Streamlit allows you to build user interfaces **directly using Python functions**.\n",
        "* You write Python code using Streamlit’s API (like `st.button()`, `st.write()`, etc.) to create interactive apps without manually writing HTML, CSS, or JavaScript.\n",
        "\n",
        "---\n",
        "\n",
        "### Why others are incorrect:\n",
        "\n",
        "* **HTML and CSS** — Not required or directly used by the developer.\n",
        "* **JavaScript** — Streamlit handles frontend JS internally; developers don’t write JS code.\n",
        "\n",
        "---\n",
        "\n",
        "### Final answer: **2. Python functions**\n"
      ],
      "metadata": {
        "id": "gS8aw4_fCZrn"
      }
    },
    {
      "cell_type": "code",
      "source": [],
      "metadata": {
        "id": "TBbYSNp7CdY8"
      },
      "execution_count": null,
      "outputs": []
    },
    {
      "cell_type": "markdown",
      "source": [
        "##Q22. Which of the following is used to handle user authentication in Django?\n",
        "1. Flask-Security\n",
        "2. Django Authentication Middleware\n",
        "3. Flask-Login\n",
        "4. Django Auth"
      ],
      "metadata": {
        "id": "D9Ecrs-fCc4P"
      }
    },
    {
      "cell_type": "markdown",
      "source": [
        "The correct answer is: **4. Django Auth**\n",
        "\n",
        "---\n",
        "\n",
        "### Explanation:\n",
        "\n",
        "* **Django Auth** is Django’s built-in authentication system that handles:\n",
        "\n",
        "  * User login/logout\n",
        "  * Password management\n",
        "  * Permissions and groups\n",
        "* It is part of Django’s core framework and is usually referred to as `django.contrib.auth`.\n",
        "\n",
        "---\n",
        "\n",
        "### Why others are incorrect:\n",
        "\n",
        "* **Flask-Security** and **Flask-Login** are Flask extensions, not Django.\n",
        "* **Django Authentication Middleware** is a part of the auth system but not the main component for authentication itself.\n",
        "\n",
        "---\n",
        "\n",
        "### Final answer: **4. Django Auth**\n"
      ],
      "metadata": {
        "id": "9Nxaqe3vClDG"
      }
    },
    {
      "cell_type": "code",
      "source": [],
      "metadata": {
        "id": "hHciR_AYCn8h"
      },
      "execution_count": null,
      "outputs": []
    },
    {
      "cell_type": "markdown",
      "source": [
        "##Q23. In Flask, Which function is used to render an HTML template?\n",
        "1. render_template()\n",
        "2. render_html()\n",
        "3. render()\n",
        "4. template()"
      ],
      "metadata": {
        "id": "qa77zfVJCoff"
      }
    },
    {
      "cell_type": "markdown",
      "source": [
        "The correct answer is: **1. `render_template()`**\n",
        "\n",
        "---\n",
        "\n",
        "### Explanation:\n",
        "\n",
        "* In Flask, you use the `render_template()` function to render an HTML file (template) and return it as a response.\n",
        "\n",
        "* Example:\n",
        "\n",
        "  ```python\n",
        "  from flask import Flask, render_template\n",
        "\n",
        "  app = Flask(__name__)\n",
        "\n",
        "  @app.route('/')\n",
        "  def home():\n",
        "      return render_template('index.html')\n",
        "  ```\n",
        "\n",
        "* **`render_html()`** is **not** a Flask function.\n",
        "\n",
        "---\n",
        "\n",
        "### Final answer: **1. `render_template()`**\n"
      ],
      "metadata": {
        "id": "PC-hlUXIC25S"
      }
    },
    {
      "cell_type": "code",
      "source": [],
      "metadata": {
        "id": "Qcsz4Z2xC5nO"
      },
      "execution_count": null,
      "outputs": []
    },
    {
      "cell_type": "markdown",
      "source": [
        "##Q24. Which of the following is true about Streamlit?\n",
        "1. It requires knowledge of JavaScript for customization\n",
        "2. It is best used for real-time, high-traffic web applications\n",
        "3. It simplifies the creation of data dashboards with minimal code\n",
        "4. It includes a built-in ORM"
      ],
      "metadata": {
        "id": "oW4RB9_6C56O"
      }
    },
    {
      "cell_type": "markdown",
      "source": [
        "The correct answer is: **3. It simplifies the creation of data dashboards with minimal code**\n",
        "\n",
        "---\n",
        "\n",
        "### Explanation:\n",
        "\n",
        "* Streamlit is designed to help data scientists and analysts quickly build **interactive data dashboards** using just Python with minimal code.\n",
        "* It **does not require JavaScript knowledge**.\n",
        "* It’s not optimized for **high-traffic production apps** like full web frameworks.\n",
        "* Streamlit **does not include a built-in ORM**.\n",
        "\n",
        "---\n",
        "\n",
        "### Final answer: **3. It simplifies the creation of data dashboards with minimal code**\n"
      ],
      "metadata": {
        "id": "sVIlEkwbDCm8"
      }
    },
    {
      "cell_type": "code",
      "source": [],
      "metadata": {
        "id": "1bCCraxeDFcD"
      },
      "execution_count": null,
      "outputs": []
    },
    {
      "cell_type": "markdown",
      "source": [
        "##Q25. Flask is often described as:\n",
        "1. A full-stack framework\n",
        "2. An unopinionated framework\n",
        "3. A strongly-typed framework\n",
        "4. An ORM-based framework"
      ],
      "metadata": {
        "id": "LQLd_j6fDFrt"
      }
    },
    {
      "cell_type": "markdown",
      "source": [
        "The correct answer is: **2. An unopinionated framework**\n",
        "\n",
        "---\n",
        "\n",
        "### Explanation:\n",
        "\n",
        "* Flask is **unopinionated**, meaning it gives developers flexibility to choose how to structure their applications and which components to use.\n",
        "* It is **not a full-stack framework** (like Django).\n",
        "* Flask itself is **not strongly-typed**—Python is dynamically typed.\n",
        "* Flask does **not come with a built-in ORM** (you add one like Flask-SQLAlchemy).\n",
        "\n",
        "---\n",
        "\n",
        "### Final answer: **2. An unopinionated framework**\n"
      ],
      "metadata": {
        "id": "4Qz2omHhDL0H"
      }
    },
    {
      "cell_type": "code",
      "source": [],
      "metadata": {
        "id": "20Vk030GDOZH"
      },
      "execution_count": null,
      "outputs": []
    },
    {
      "cell_type": "markdown",
      "source": [
        "##Q26. Which command in Django is used t start the development server?\n",
        "1. django-admin runserver\n",
        "2. python manage.py run\n",
        "3. python manage.py runserver\n",
        "4. django-admin startserver"
      ],
      "metadata": {
        "id": "XoIiMDftDOuP"
      }
    },
    {
      "cell_type": "markdown",
      "source": [
        "The correct answer is: **3. python manage.py runserver**\n",
        "\n",
        "---\n",
        "\n",
        "### Explanation:\n",
        "\n",
        "* To start the Django development server, you run this command inside your project directory:\n",
        "\n",
        "```bash\n",
        "python manage.py runserver\n",
        "```\n",
        "\n",
        "* This launches the built-in lightweight web server for development purposes.\n",
        "\n",
        "---\n",
        "\n",
        "### Why others are incorrect:\n",
        "\n",
        "* **django-admin runserver** — Not a valid command.\n",
        "* **django-admin startserver** — Not a valid command.\n",
        "\n",
        "---\n",
        "\n",
        "### Final answer: **3. python manage.py runserver**\n"
      ],
      "metadata": {
        "id": "6QijXew_DaMx"
      }
    },
    {
      "cell_type": "code",
      "source": [],
      "metadata": {
        "id": "T-mmSHpVDgNo"
      },
      "execution_count": null,
      "outputs": []
    },
    {
      "cell_type": "markdown",
      "source": [
        "##Q27. In Streamlit, which function is used to add a slider widget?\n",
        "1. st.slider()\n",
        "2. st.range_slider()\n",
        "3. st.add_slider()\n",
        "4. st.slider_widget()"
      ],
      "metadata": {
        "id": "qmp5mJ-gDgoW"
      }
    },
    {
      "cell_type": "markdown",
      "source": [
        "The correct answer is: **1. `st.slider()`**\n",
        "\n",
        "---\n",
        "\n",
        "### Explanation:\n",
        "\n",
        "* In Streamlit, the function to add a slider widget is `st.slider()`.\n",
        "* It allows users to select a numeric value or a range by sliding a handle.\n",
        "\n",
        "Example:\n",
        "\n",
        "```python\n",
        "import streamlit as st\n",
        "\n",
        "value = st.slider('Select a value', 0, 100, 25)\n",
        "st.write('Selected value:', value)\n",
        "```\n",
        "\n",
        "---\n",
        "\n",
        "### Why others are incorrect:\n",
        "\n",
        "* **`st.range_slider()`** — This is a valid Streamlit function but used for selecting a range, not a single value.\n",
        "* **`st.add_slider()`** and **`st.slider_widget()`** — These are not valid Streamlit functions.\n",
        "\n",
        "---\n",
        "\n",
        "### Final answer: **1. `st.slider()`**\n"
      ],
      "metadata": {
        "id": "tqg92RAJDoot"
      }
    },
    {
      "cell_type": "code",
      "source": [],
      "metadata": {
        "id": "GNFpohQpDrMv"
      },
      "execution_count": null,
      "outputs": []
    },
    {
      "cell_type": "markdown",
      "source": [
        "##Q28. What does Flask's app.run() method do?\n",
        "1. Initializes the database\n",
        "2. Start the Flask web server\n",
        "3. Complies the Python code\n",
        "4. None of the above"
      ],
      "metadata": {
        "id": "lkzqr7cSDrrs"
      }
    },
    {
      "cell_type": "markdown",
      "source": [
        "The correct answer is: **2. Start the Flask web server**\n",
        "\n",
        "---\n",
        "\n",
        "### Explanation:\n",
        "\n",
        "* The `app.run()` method **starts the Flask development web server**, allowing your app to listen for incoming HTTP requests.\n",
        "* It’s commonly used in the main script to launch the app locally during development.\n",
        "\n",
        "Example:\n",
        "\n",
        "```python\n",
        "from flask import Flask\n",
        "\n",
        "app = Flask(__name__)\n",
        "\n",
        "@app.route('/')\n",
        "def home():\n",
        "    return \"Hello, Flask!\"\n",
        "\n",
        "if __name__ == '__main__':\n",
        "    app.run(debug=True)\n",
        "```\n",
        "\n",
        "---\n",
        "\n",
        "### Why others are incorrect:\n",
        "\n",
        "* **Initializes the database** — Not what `app.run()` does.\n",
        "* **Compiles the Python code** — Python is an interpreted language; `app.run()` does not compile code.\n",
        "\n",
        "---\n",
        "\n",
        "### Final answer: **2. Start the Flask web server**\n"
      ],
      "metadata": {
        "id": "fBeJqdZMDzDz"
      }
    },
    {
      "cell_type": "code",
      "source": [],
      "metadata": {
        "id": "H1-SA7BgD2IL"
      },
      "execution_count": null,
      "outputs": []
    },
    {
      "cell_type": "markdown",
      "source": [
        "##Q29. Which of these is true about Streamlit's deployment?\n",
        "1. It requires extensive setup of WSGI servers.\n",
        "2. It can be easily deployed on Streamlit Cloud with minimal configuration.\n",
        "3. It needs manual handling of database migrations.\n",
        "4. It is not suitable for any cloud deployment."
      ],
      "metadata": {
        "id": "MTL7y3S5D2dS"
      }
    },
    {
      "cell_type": "markdown",
      "source": [
        "The correct answer is: **2. It can be easily deployed on Streamlit Cloud with minimal configuration.**\n",
        "\n",
        "---\n",
        "\n",
        "### Explanation:\n",
        "\n",
        "* Streamlit offers **Streamlit Cloud**, a platform where you can deploy your Streamlit apps easily with minimal setup.\n",
        "* It handles hosting, scaling, and deployment for you.\n",
        "* You do **not** need to set up WSGI servers manually.\n",
        "* Database migrations are typically handled outside Streamlit, depending on your backend setup.\n",
        "* Streamlit **is suitable** for cloud deployment.\n",
        "\n",
        "---\n",
        "\n",
        "### Final answer: **2. It can be easily deployed on Streamlit Cloud with minimal configuration.**\n"
      ],
      "metadata": {
        "id": "8FoT2bUiD969"
      }
    },
    {
      "cell_type": "code",
      "source": [],
      "metadata": {
        "id": "iTmN5zVpEArr"
      },
      "execution_count": null,
      "outputs": []
    },
    {
      "cell_type": "markdown",
      "source": [
        "##Q30. Which function is commonly used to handle HTTP requests in Flask?\n",
        "1. request()\n",
        "2. handle_request()\n",
        "3. flask.request\n",
        "4. app.request"
      ],
      "metadata": {
        "id": "WqWPl7SOEA9Q"
      }
    },
    {
      "cell_type": "markdown",
      "source": [
        "The correct answer is: **3. `flask.request`**\n",
        "\n",
        "---\n",
        "\n",
        "### Explanation:\n",
        "\n",
        "* In Flask, **`request`** is an object provided by the `flask` module that represents the current HTTP request.\n",
        "* You typically import it like this:\n",
        "\n",
        "```python\n",
        "from flask import Flask, request\n",
        "\n",
        "app = Flask(__name__)\n",
        "\n",
        "@app.route('/submit', methods=['POST'])\n",
        "def submit():\n",
        "    data = request.form['data']\n",
        "    return f\"Received: {data}\"\n",
        "```\n",
        "\n",
        "* `request` is **not a function**, but an object that lets you access form data, query parameters, headers, etc.\n",
        "\n",
        "---\n",
        "\n",
        "### Why others are incorrect:\n",
        "\n",
        "* **`request()`** — No such function.\n",
        "* **`handle_request()`** — Not a Flask function.\n",
        "* **`app.request`** — Flask app object doesn’t have a `request` attribute.\n",
        "\n",
        "---\n",
        "\n",
        "### Final answer: **3. `flask.request`**\n"
      ],
      "metadata": {
        "id": "HljS161gEG1t"
      }
    },
    {
      "cell_type": "code",
      "source": [],
      "metadata": {
        "id": "x5Lj0HuAEJf9"
      },
      "execution_count": null,
      "outputs": []
    },
    {
      "cell_type": "code",
      "source": [],
      "metadata": {
        "id": "CJTqZkDkEKBH"
      },
      "execution_count": null,
      "outputs": []
    },
    {
      "cell_type": "code",
      "source": [],
      "metadata": {
        "id": "W2VNIW43EJ0R"
      },
      "execution_count": null,
      "outputs": []
    },
    {
      "cell_type": "code",
      "source": [],
      "metadata": {
        "id": "KHJoAyldEJm2"
      },
      "execution_count": null,
      "outputs": []
    }
  ],
  "metadata": {
    "colab": {
      "name": "Welcome To Colab",
      "provenance": [],
      "include_colab_link": true
    },
    "kernelspec": {
      "display_name": "Python 3",
      "name": "python3"
    }
  },
  "nbformat": 4,
  "nbformat_minor": 0
}